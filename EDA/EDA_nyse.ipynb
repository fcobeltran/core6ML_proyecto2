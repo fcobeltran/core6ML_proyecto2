{
  "cells": [
    {
      "cell_type": "markdown",
      "metadata": {
        "vscode": {
          "languageId": "raw"
        }
      },
      "source": [
        "# Análisis Exploratorio de Datos (EDA) - NYSE\n",
        "\n",
        "## Descripción del Conjunto de Datos\n",
        "\n",
        "**Fuente**: Datos históricos de la Bolsa de Nueva York (NYSE)  \n",
        "**Período**: Desde noviembre de 2001 hasta la actualidad  \n",
        "**Variables**: Date, Low, Open, Volume, High, Close, Adjusted Close  \n",
        "**Tamaño**: Aproximadamente 1,100+ acciones con ~5,000 registros por acción  \n",
        "\n",
        "La NYSE es la bolsa de valores más grande del mundo por capitalización de mercado, hogar de muchas empresas tradicionales y establecidas.\n"
      ]
    }
  ],
  "metadata": {
    "language_info": {
      "name": "python"
    }
  },
  "nbformat": 4,
  "nbformat_minor": 2
}
