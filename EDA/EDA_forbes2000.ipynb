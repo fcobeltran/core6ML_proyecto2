{
  "cells": [
    {
      "cell_type": "markdown",
      "metadata": {
        "vscode": {
          "languageId": "raw"
        }
      },
      "source": [
        "# Análisis Exploratorio de Datos (EDA) - Forbes 2000\n",
        "\n",
        "## Descripción del Conjunto de Datos\n",
        "\n",
        "**Fuente**: Datos históricos de empresas en la lista Forbes Global 2000  \n",
        "**Período**: Desde diciembre de 1980 hasta la actualidad  \n",
        "**Variables**: Date, Low, Open, Volume, High, Close, Adjusted Close  \n",
        "**Tamaño**: Aproximadamente 600+ empresas globales con datos históricos extensos  \n",
        "\n",
        "Forbes Global 2000 es una clasificación anual de las 2000 empresas públicas más grandes del mundo, basada en una combinación de ventas, beneficios, activos y valor de mercado.\n"
      ]
    }
  ],
  "metadata": {
    "kernelspec": {
      "display_name": "Python 3",
      "language": "python",
      "name": "python3"
    },
    "language_info": {
      "name": "python",
      "version": "3.11.8"
    }
  },
  "nbformat": 4,
  "nbformat_minor": 2
}
